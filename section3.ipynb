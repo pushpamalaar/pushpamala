{
 "cells": [
  {
   "cell_type": "code",
   "execution_count": 4,
   "id": "e2e2a22c",
   "metadata": {},
   "outputs": [],
   "source": [
    "name = \"pushpa\"  #assigning the string to variable 'name'"
   ]
  },
  {
   "cell_type": "code",
   "execution_count": 5,
   "id": "fda368df",
   "metadata": {},
   "outputs": [
    {
     "name": "stdout",
     "output_type": "stream",
     "text": [
      "pushpa\n"
     ]
    }
   ],
   "source": [
    "print(name)"
   ]
  },
  {
   "cell_type": "code",
   "execution_count": 6,
   "id": "f8944bde",
   "metadata": {},
   "outputs": [],
   "source": [
    "mylist = ['hello',5,'welcome',9.0,]  #assigning the values in the form of list"
   ]
  },
  {
   "cell_type": "code",
   "execution_count": 7,
   "id": "23d8b14e",
   "metadata": {},
   "outputs": [
    {
     "data": {
      "text/plain": [
       "['hello', 5, 'welcome', 9.0]"
      ]
     },
     "execution_count": 7,
     "metadata": {},
     "output_type": "execute_result"
    }
   ],
   "source": [
    "mylist                              #trying to print the variable mylsit\n"
   ]
  },
  {
   "cell_type": "code",
   "execution_count": 8,
   "id": "b378b2d2",
   "metadata": {},
   "outputs": [
    {
     "data": {
      "text/plain": [
       "4"
      ]
     },
     "execution_count": 8,
     "metadata": {},
     "output_type": "execute_result"
    }
   ],
   "source": [
    "len(mylist)                       #checking the length of mylist"
   ]
  },
  {
   "cell_type": "code",
   "execution_count": 10,
   "id": "c75f1eed",
   "metadata": {},
   "outputs": [],
   "source": [
    "mylist.append(7)              #adding the value to mylist"
   ]
  },
  {
   "cell_type": "code",
   "execution_count": 11,
   "id": "0140f953",
   "metadata": {},
   "outputs": [
    {
     "data": {
      "text/plain": [
       "['hello', 5, 'welcome', 9.0, 7, 7]"
      ]
     },
     "execution_count": 11,
     "metadata": {},
     "output_type": "execute_result"
    }
   ],
   "source": [
    "mylist"
   ]
  },
  {
   "cell_type": "code",
   "execution_count": 12,
   "id": "1698b86d",
   "metadata": {},
   "outputs": [
    {
     "ename": "NameError",
     "evalue": "name 'mylsit' is not defined",
     "output_type": "error",
     "traceback": [
      "\u001b[1;31m---------------------------------------------------------------------------\u001b[0m",
      "\u001b[1;31mNameError\u001b[0m                                 Traceback (most recent call last)",
      "\u001b[1;32m<ipython-input-12-0f4ebccfc8d9>\u001b[0m in \u001b[0;36m<module>\u001b[1;34m\u001b[0m\n\u001b[1;32m----> 1\u001b[1;33m \u001b[0mmylsit\u001b[0m\u001b[1;33m.\u001b[0m\u001b[0mpop\u001b[0m\u001b[1;33m(\u001b[0m\u001b[1;36m4\u001b[0m\u001b[1;33m)\u001b[0m\u001b[1;33m\u001b[0m\u001b[1;33m\u001b[0m\u001b[0m\n\u001b[0m",
      "\u001b[1;31mNameError\u001b[0m: name 'mylsit' is not defined"
     ]
    }
   ],
   "source": [
    "mylsit.pop(4)"
   ]
  },
  {
   "cell_type": "code",
   "execution_count": 13,
   "id": "a9a8e9dd",
   "metadata": {},
   "outputs": [
    {
     "data": {
      "text/plain": [
       "7"
      ]
     },
     "execution_count": 13,
     "metadata": {},
     "output_type": "execute_result"
    }
   ],
   "source": [
    "mylist.pop(4)                  #removing the value for the list"
   ]
  },
  {
   "cell_type": "code",
   "execution_count": 14,
   "id": "a668ba16",
   "metadata": {},
   "outputs": [
    {
     "data": {
      "text/plain": [
       "5"
      ]
     },
     "execution_count": 14,
     "metadata": {},
     "output_type": "execute_result"
    }
   ],
   "source": [
    "len(mylist)"
   ]
  },
  {
   "cell_type": "code",
   "execution_count": 15,
   "id": "24164970",
   "metadata": {},
   "outputs": [],
   "source": [
    "newlist = ['hello','merck']   #creating list and adding the values to list"
   ]
  },
  {
   "cell_type": "code",
   "execution_count": 16,
   "id": "b65fbc68",
   "metadata": {},
   "outputs": [],
   "source": [
    "mylist = mylist + newlist     #trying to combine the two list"
   ]
  },
  {
   "cell_type": "code",
   "execution_count": 17,
   "id": "9a8524ee",
   "metadata": {},
   "outputs": [
    {
     "data": {
      "text/plain": [
       "['hello', 5, 'welcome', 9.0, 7, 'hello', 'merck']"
      ]
     },
     "execution_count": 17,
     "metadata": {},
     "output_type": "execute_result"
    }
   ],
   "source": [
    "mylist"
   ]
  },
  {
   "cell_type": "code",
   "execution_count": 18,
   "id": "bf2ecb6c",
   "metadata": {},
   "outputs": [
    {
     "data": {
      "text/plain": [
       "'hello'"
      ]
     },
     "execution_count": 18,
     "metadata": {},
     "output_type": "execute_result"
    }
   ],
   "source": [
    "mylist.pop(0)      #trying to remove the index value 0"
   ]
  },
  {
   "cell_type": "code",
   "execution_count": 19,
   "id": "f67bc550",
   "metadata": {},
   "outputs": [
    {
     "data": {
      "text/plain": [
       "[5, 'welcome', 9.0, 7, 'hello', 'merck']"
      ]
     },
     "execution_count": 19,
     "metadata": {},
     "output_type": "execute_result"
    }
   ],
   "source": [
    "mylist"
   ]
  },
  {
   "cell_type": "code",
   "execution_count": 20,
   "id": "4d8dc562",
   "metadata": {},
   "outputs": [
    {
     "data": {
      "text/plain": [
       "list"
      ]
     },
     "execution_count": 20,
     "metadata": {},
     "output_type": "execute_result"
    }
   ],
   "source": [
    "type(mylist)        #checking the data type"
   ]
  },
  {
   "cell_type": "code",
   "execution_count": 21,
   "id": "09f5e3d2",
   "metadata": {},
   "outputs": [
    {
     "data": {
      "text/plain": [
       "7"
      ]
     },
     "execution_count": 21,
     "metadata": {},
     "output_type": "execute_result"
    }
   ],
   "source": [
    "mylist.pop(3)"
   ]
  },
  {
   "cell_type": "code",
   "execution_count": 22,
   "id": "0ca2f1c6",
   "metadata": {},
   "outputs": [
    {
     "data": {
      "text/plain": [
       "[5, 'welcome', 9.0, 'hello', 'merck']"
      ]
     },
     "execution_count": 22,
     "metadata": {},
     "output_type": "execute_result"
    }
   ],
   "source": [
    "mylist"
   ]
  },
  {
   "cell_type": "code",
   "execution_count": 23,
   "id": "2c31fd9f",
   "metadata": {},
   "outputs": [],
   "source": [
    "list = ['group']"
   ]
  },
  {
   "cell_type": "code",
   "execution_count": 24,
   "id": "a8640520",
   "metadata": {},
   "outputs": [
    {
     "data": {
      "text/plain": [
       "['group']"
      ]
     },
     "execution_count": 24,
     "metadata": {},
     "output_type": "execute_result"
    }
   ],
   "source": [
    "list"
   ]
  },
  {
   "cell_type": "code",
   "execution_count": 25,
   "id": "a69ea17d",
   "metadata": {},
   "outputs": [
    {
     "name": "stdout",
     "output_type": "stream",
     "text": [
      "['group']\n"
     ]
    }
   ],
   "source": [
    "print(list)          #trying to print the list"
   ]
  },
  {
   "cell_type": "code",
   "execution_count": null,
   "id": "758ace54",
   "metadata": {},
   "outputs": [],
   "source": []
  },
  {
   "cell_type": "code",
   "execution_count": 26,
   "id": "521143c1",
   "metadata": {},
   "outputs": [],
   "source": [
    "dict = {'k1':['data'],'k2': 876,'k3':100.95}  #create a dictionary"
   ]
  },
  {
   "cell_type": "code",
   "execution_count": 27,
   "id": "d717488e",
   "metadata": {},
   "outputs": [
    {
     "data": {
      "text/plain": [
       "{'k1': ['data'], 'k2': 876, 'k3': 100.95}"
      ]
     },
     "execution_count": 27,
     "metadata": {},
     "output_type": "execute_result"
    }
   ],
   "source": [
    "dict"
   ]
  },
  {
   "cell_type": "code",
   "execution_count": 28,
   "id": "78baab3b",
   "metadata": {},
   "outputs": [
    {
     "data": {
      "text/plain": [
       "876"
      ]
     },
     "execution_count": 28,
     "metadata": {},
     "output_type": "execute_result"
    }
   ],
   "source": [
    "dict['k2']           #printing k2 value"
   ]
  },
  {
   "cell_type": "code",
   "execution_count": 30,
   "id": "849833e7",
   "metadata": {},
   "outputs": [
    {
     "data": {
      "text/plain": [
       "100.95"
      ]
     },
     "execution_count": 30,
     "metadata": {},
     "output_type": "execute_result"
    }
   ],
   "source": [
    "dict['k3']           #printing k3 value"
   ]
  },
  {
   "cell_type": "code",
   "execution_count": 31,
   "id": "a0302f02",
   "metadata": {},
   "outputs": [],
   "source": [
    "my_dict ={'name':'pushpa','age':22}"
   ]
  },
  {
   "cell_type": "code",
   "execution_count": 32,
   "id": "837e9643",
   "metadata": {},
   "outputs": [
    {
     "name": "stdout",
     "output_type": "stream",
     "text": [
      "{'name': 'pushpa', 'age': 22}\n"
     ]
    }
   ],
   "source": [
    "print(my_dict)"
   ]
  },
  {
   "cell_type": "code",
   "execution_count": 33,
   "id": "fbacc985",
   "metadata": {},
   "outputs": [
    {
     "ename": "KeyError",
     "evalue": "'address'",
     "output_type": "error",
     "traceback": [
      "\u001b[1;31m---------------------------------------------------------------------------\u001b[0m",
      "\u001b[1;31mKeyError\u001b[0m                                  Traceback (most recent call last)",
      "\u001b[1;32m<ipython-input-33-c58f8a4415e2>\u001b[0m in \u001b[0;36m<module>\u001b[1;34m\u001b[0m\n\u001b[1;32m----> 1\u001b[1;33m \u001b[0mprint\u001b[0m\u001b[1;33m(\u001b[0m\u001b[0mmy_dict\u001b[0m\u001b[1;33m[\u001b[0m\u001b[1;34m'address'\u001b[0m\u001b[1;33m]\u001b[0m\u001b[1;33m)\u001b[0m\u001b[1;33m\u001b[0m\u001b[1;33m\u001b[0m\u001b[0m\n\u001b[0m",
      "\u001b[1;31mKeyError\u001b[0m: 'address'"
     ]
    }
   ],
   "source": [
    "print(my_dict['address'])"
   ]
  },
  {
   "cell_type": "code",
   "execution_count": 34,
   "id": "3a0c39bf",
   "metadata": {},
   "outputs": [
    {
     "ename": "KeyError",
     "evalue": "'pushpa'",
     "output_type": "error",
     "traceback": [
      "\u001b[1;31m---------------------------------------------------------------------------\u001b[0m",
      "\u001b[1;31mKeyError\u001b[0m                                  Traceback (most recent call last)",
      "\u001b[1;32m<ipython-input-34-c85229d70555>\u001b[0m in \u001b[0;36m<module>\u001b[1;34m\u001b[0m\n\u001b[1;32m----> 1\u001b[1;33m \u001b[0mmy_dict\u001b[0m\u001b[1;33m[\u001b[0m\u001b[0mname\u001b[0m\u001b[1;33m]\u001b[0m\u001b[1;33m\u001b[0m\u001b[1;33m\u001b[0m\u001b[0m\n\u001b[0m",
      "\u001b[1;31mKeyError\u001b[0m: 'pushpa'"
     ]
    }
   ],
   "source": [
    "my_dict[name]  #error due to quotes"
   ]
  },
  {
   "cell_type": "code",
   "execution_count": 35,
   "id": "d1c1a550",
   "metadata": {},
   "outputs": [
    {
     "data": {
      "text/plain": [
       "'pushpa'"
      ]
     },
     "execution_count": 35,
     "metadata": {},
     "output_type": "execute_result"
    }
   ],
   "source": [
    "my_dict['name']"
   ]
  },
  {
   "cell_type": "code",
   "execution_count": 36,
   "id": "ef6aaa9b",
   "metadata": {},
   "outputs": [
    {
     "data": {
      "text/plain": [
       "22"
      ]
     },
     "execution_count": 36,
     "metadata": {},
     "output_type": "execute_result"
    }
   ],
   "source": [
    "my_dict['age']"
   ]
  },
  {
   "cell_type": "code",
   "execution_count": 37,
   "id": "7c89bbfe",
   "metadata": {},
   "outputs": [],
   "source": [
    "myset = set()    #print a different values using sets"
   ]
  },
  {
   "cell_type": "code",
   "execution_count": 38,
   "id": "96c5f7e1",
   "metadata": {},
   "outputs": [
    {
     "data": {
      "text/plain": [
       "set()"
      ]
     },
     "execution_count": 38,
     "metadata": {},
     "output_type": "execute_result"
    }
   ],
   "source": [
    "myset\n"
   ]
  },
  {
   "cell_type": "code",
   "execution_count": 39,
   "id": "e582a7ad",
   "metadata": {},
   "outputs": [],
   "source": [
    "myset.add(1)   #adding a 1 value to the set"
   ]
  },
  {
   "cell_type": "code",
   "execution_count": 40,
   "id": "863e31e0",
   "metadata": {},
   "outputs": [
    {
     "data": {
      "text/plain": [
       "{1}"
      ]
     },
     "execution_count": 40,
     "metadata": {},
     "output_type": "execute_result"
    }
   ],
   "source": [
    "myset"
   ]
  },
  {
   "cell_type": "code",
   "execution_count": 41,
   "id": "1d96aba5",
   "metadata": {},
   "outputs": [],
   "source": [
    "myset.add(25)     #adding a 25 to the set"
   ]
  },
  {
   "cell_type": "code",
   "execution_count": 42,
   "id": "7c8e83e7",
   "metadata": {},
   "outputs": [
    {
     "data": {
      "text/plain": [
       "{1, 25}"
      ]
     },
     "execution_count": 42,
     "metadata": {},
     "output_type": "execute_result"
    }
   ],
   "source": [
    "myset"
   ]
  },
  {
   "cell_type": "code",
   "execution_count": 43,
   "id": "09ce3834",
   "metadata": {},
   "outputs": [],
   "source": [
    "mylist = [1,1,2,2,3,3,4,4,5,5]     "
   ]
  },
  {
   "cell_type": "code",
   "execution_count": 44,
   "id": "4b66d9f6",
   "metadata": {},
   "outputs": [
    {
     "data": {
      "text/plain": [
       "{1, 2, 3, 4, 5}"
      ]
     },
     "execution_count": 44,
     "metadata": {},
     "output_type": "execute_result"
    }
   ],
   "source": [
    "set(mylist)       #Here printing common values in the list"
   ]
  },
  {
   "cell_type": "code",
   "execution_count": 49,
   "id": "502cdfaa",
   "metadata": {},
   "outputs": [],
   "source": [
    "a = True     "
   ]
  },
  {
   "cell_type": "code",
   "execution_count": 50,
   "id": "65585254",
   "metadata": {},
   "outputs": [
    {
     "data": {
      "text/plain": [
       "bool"
      ]
     },
     "execution_count": 50,
     "metadata": {},
     "output_type": "execute_result"
    }
   ],
   "source": [
    "type(a)    #checking the data type"
   ]
  },
  {
   "cell_type": "code",
   "execution_count": 51,
   "id": "7d767f2a",
   "metadata": {},
   "outputs": [
    {
     "name": "stdout",
     "output_type": "stream",
     "text": [
      "True\n"
     ]
    }
   ],
   "source": [
    "print(10>9)"
   ]
  },
  {
   "cell_type": "code",
   "execution_count": 52,
   "id": "bfc0e59d",
   "metadata": {},
   "outputs": [
    {
     "name": "stdout",
     "output_type": "stream",
     "text": [
      "False\n"
     ]
    }
   ],
   "source": [
    "print(10==9)"
   ]
  },
  {
   "cell_type": "code",
   "execution_count": 53,
   "id": "d8d8de95",
   "metadata": {},
   "outputs": [
    {
     "name": "stdout",
     "output_type": "stream",
     "text": [
      "False\n"
     ]
    }
   ],
   "source": [
    "print(10<9)"
   ]
  },
  {
   "cell_type": "code",
   "execution_count": null,
   "id": "39b7155d",
   "metadata": {},
   "outputs": [],
   "source": []
  }
 ],
 "metadata": {
  "kernelspec": {
   "display_name": "Python 3",
   "language": "python",
   "name": "python3"
  },
  "language_info": {
   "codemirror_mode": {
    "name": "ipython",
    "version": 3
   },
   "file_extension": ".py",
   "mimetype": "text/x-python",
   "name": "python",
   "nbconvert_exporter": "python",
   "pygments_lexer": "ipython3",
   "version": "3.8.8"
  }
 },
 "nbformat": 4,
 "nbformat_minor": 5
}
