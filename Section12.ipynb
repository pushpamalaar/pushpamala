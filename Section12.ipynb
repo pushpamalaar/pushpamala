{
 "cells": [
  {
   "cell_type": "code",
   "execution_count": 4,
   "id": "eede8f57",
   "metadata": {},
   "outputs": [],
   "source": [
    "def func():\n",
    "    return 5"
   ]
  },
  {
   "cell_type": "code",
   "execution_count": 5,
   "id": "47a349fe",
   "metadata": {},
   "outputs": [
    {
     "data": {
      "text/plain": [
       "5"
      ]
     },
     "execution_count": 5,
     "metadata": {},
     "output_type": "execute_result"
    }
   ],
   "source": [
    "func()"
   ]
  },
  {
   "cell_type": "code",
   "execution_count": 3,
   "id": "a065506f",
   "metadata": {},
   "outputs": [
    {
     "data": {
      "text/plain": [
       "<function __main__.func()>"
      ]
     },
     "execution_count": 3,
     "metadata": {},
     "output_type": "execute_result"
    }
   ],
   "source": [
    "func"
   ]
  },
  {
   "cell_type": "code",
   "execution_count": 8,
   "id": "b7737518",
   "metadata": {},
   "outputs": [],
   "source": [
    "def hello():\n",
    "    return \"Merck\""
   ]
  },
  {
   "cell_type": "code",
   "execution_count": 9,
   "id": "7dc7e3f9",
   "metadata": {},
   "outputs": [
    {
     "data": {
      "text/plain": [
       "'Merck'"
      ]
     },
     "execution_count": 9,
     "metadata": {},
     "output_type": "execute_result"
    }
   ],
   "source": [
    "hello()"
   ]
  },
  {
   "cell_type": "code",
   "execution_count": 10,
   "id": "f9c6c9b4",
   "metadata": {},
   "outputs": [
    {
     "data": {
      "text/plain": [
       "<function __main__.hello()>"
      ]
     },
     "execution_count": 10,
     "metadata": {},
     "output_type": "execute_result"
    }
   ],
   "source": [
    "hello"
   ]
  },
  {
   "cell_type": "code",
   "execution_count": 11,
   "id": "2d460ec7",
   "metadata": {},
   "outputs": [],
   "source": [
    "greet = hello"
   ]
  },
  {
   "cell_type": "code",
   "execution_count": 12,
   "id": "ab591fa5",
   "metadata": {},
   "outputs": [
    {
     "data": {
      "text/plain": [
       "'Merck'"
      ]
     },
     "execution_count": 12,
     "metadata": {},
     "output_type": "execute_result"
    }
   ],
   "source": [
    "greet()"
   ]
  },
  {
   "cell_type": "code",
   "execution_count": 13,
   "id": "1ec49010",
   "metadata": {},
   "outputs": [],
   "source": [
    "del hello"
   ]
  },
  {
   "cell_type": "code",
   "execution_count": 15,
   "id": "c642d341",
   "metadata": {},
   "outputs": [
    {
     "data": {
      "text/plain": [
       "'Merck'"
      ]
     },
     "execution_count": 15,
     "metadata": {},
     "output_type": "execute_result"
    }
   ],
   "source": [
    "greet()\n"
   ]
  },
  {
   "cell_type": "code",
   "execution_count": 16,
   "id": "39e1488e",
   "metadata": {},
   "outputs": [],
   "source": [
    "def hello(name = 'Anchana'):\n",
    "    print('The hello() function has been excecuted')\n",
    "    \n",
    "    def greet():\n",
    "        return '\\t This is the greet() function inside hello'\n",
    "    print(greet())"
   ]
  },
  {
   "cell_type": "code",
   "execution_count": 17,
   "id": "263df22a",
   "metadata": {},
   "outputs": [
    {
     "name": "stdout",
     "output_type": "stream",
     "text": [
      "The hello() function has been excecuted\n",
      "\t This is the greet() function inside hello\n"
     ]
    }
   ],
   "source": [
    "hello()"
   ]
  },
  {
   "cell_type": "code",
   "execution_count": 24,
   "id": "262c8cee",
   "metadata": {},
   "outputs": [],
   "source": [
    "def hello(name = 'Pushpa'):\n",
    "    print('The hello() function has been excecuted')\n",
    "    \n",
    "    def greet():\n",
    "        return '\\t This is the greet() function inside hello'\n",
    "    \n",
    "    def welcome():\n",
    "        return '\\t This is welcome() inside hello'\n",
    "    \n",
    "    print(greet())\n",
    "    print(welcome())\n",
    "    print('This is the end of the hello function')"
   ]
  },
  {
   "cell_type": "code",
   "execution_count": 25,
   "id": "f2f02e8c",
   "metadata": {},
   "outputs": [
    {
     "name": "stdout",
     "output_type": "stream",
     "text": [
      "The hello() function has been excecuted\n",
      "\t This is the greet() function inside hello\n",
      "\t This is welcome() inside hello\n",
      "This is the end of the hello function\n"
     ]
    }
   ],
   "source": [
    "hello()"
   ]
  },
  {
   "cell_type": "code",
   "execution_count": 22,
   "id": "f8ddd3da",
   "metadata": {},
   "outputs": [],
   "source": [
    "def hello(name = 'Pushpa'):\n",
    "    print('The hello() function has been excecuted')\n",
    "    \n",
    "    def greet():\n",
    "        return '\\t This is the greet() function inside hello'\n",
    "    \n",
    "    def welcome():\n",
    "        return '\\t This is welcome() inside hello'\n",
    "    \n",
    "    print('I am going to return a function')\n",
    "    \n",
    "    if name == 'Pushpa':\n",
    "        return greet\n",
    "    else:\n",
    "        return welcome"
   ]
  },
  {
   "cell_type": "code",
   "execution_count": 27,
   "id": "72259546",
   "metadata": {},
   "outputs": [
    {
     "name": "stdout",
     "output_type": "stream",
     "text": [
      "The hello() function has been excecuted\n",
      "\t This is the greet() function inside hello\n",
      "\t This is welcome() inside hello\n",
      "This is the end of the hello function\n"
     ]
    }
   ],
   "source": [
    "my_new_func = hello('jerry')"
   ]
  },
  {
   "cell_type": "code",
   "execution_count": 2,
   "id": "71d52fbc",
   "metadata": {},
   "outputs": [],
   "source": [
    "def cool():\n",
    "    \n",
    "    def super_cool():\n",
    "        return 'I am very cool'\n",
    "    return super_cool"
   ]
  },
  {
   "cell_type": "code",
   "execution_count": 3,
   "id": "ce5f3178",
   "metadata": {},
   "outputs": [],
   "source": [
    "some_func = cool()"
   ]
  },
  {
   "cell_type": "code",
   "execution_count": 4,
   "id": "f3839c38",
   "metadata": {},
   "outputs": [
    {
     "data": {
      "text/plain": [
       "<function __main__.cool.<locals>.super_cool()>"
      ]
     },
     "execution_count": 4,
     "metadata": {},
     "output_type": "execute_result"
    }
   ],
   "source": [
    "some_func"
   ]
  },
  {
   "cell_type": "code",
   "execution_count": 5,
   "id": "6b0fd7a5",
   "metadata": {},
   "outputs": [
    {
     "data": {
      "text/plain": [
       "'I am very cool'"
      ]
     },
     "execution_count": 5,
     "metadata": {},
     "output_type": "execute_result"
    }
   ],
   "source": [
    "some_func()"
   ]
  },
  {
   "cell_type": "code",
   "execution_count": 6,
   "id": "b17001c1",
   "metadata": {},
   "outputs": [],
   "source": [
    "def hello():\n",
    "    return 'Hi Pushpa'"
   ]
  },
  {
   "cell_type": "code",
   "execution_count": 7,
   "id": "0b581fcb",
   "metadata": {},
   "outputs": [],
   "source": [
    "# Passing function as an argument\n",
    "def other(some_def_func):\n",
    "    print('Other code runs here')\n",
    "    print(some_def_func())"
   ]
  },
  {
   "cell_type": "code",
   "execution_count": 8,
   "id": "c0c1cf0d",
   "metadata": {},
   "outputs": [
    {
     "data": {
      "text/plain": [
       "<function __main__.hello()>"
      ]
     },
     "execution_count": 8,
     "metadata": {},
     "output_type": "execute_result"
    }
   ],
   "source": [
    "hello"
   ]
  },
  {
   "cell_type": "code",
   "execution_count": 9,
   "id": "fbfc5f12",
   "metadata": {},
   "outputs": [
    {
     "data": {
      "text/plain": [
       "'Hi Pushpa'"
      ]
     },
     "execution_count": 9,
     "metadata": {},
     "output_type": "execute_result"
    }
   ],
   "source": [
    "hello()"
   ]
  },
  {
   "cell_type": "code",
   "execution_count": 10,
   "id": "d931329d",
   "metadata": {},
   "outputs": [
    {
     "name": "stdout",
     "output_type": "stream",
     "text": [
      "Other code runs here\n",
      "Hi Pushpa\n"
     ]
    }
   ],
   "source": [
    "other(hello)"
   ]
  },
  {
   "cell_type": "markdown",
   "id": "e7775aab",
   "metadata": {},
   "source": [
    "\n",
    "Decorator"
   ]
  },
  {
   "cell_type": "code",
   "execution_count": 11,
   "id": "52dc32ad",
   "metadata": {},
   "outputs": [],
   "source": [
    "def new_decorator(original_func):\n",
    "    \n",
    "    def wrap_func():\n",
    "        \n",
    "        print('Some extra code, before the original function')\n",
    "        \n",
    "        original_func()\n",
    "        \n",
    "        print('Some extra code, after the original function')\n",
    "        \n",
    "    return wrap_func"
   ]
  },
  {
   "cell_type": "code",
   "execution_count": 12,
   "id": "851cbcf8",
   "metadata": {},
   "outputs": [],
   "source": [
    "def func_needs_decorator():\n",
    "    print('I want to be decorated')"
   ]
  },
  {
   "cell_type": "code",
   "execution_count": 13,
   "id": "6a0eab57",
   "metadata": {},
   "outputs": [
    {
     "name": "stdout",
     "output_type": "stream",
     "text": [
      "I want to be decorated\n"
     ]
    }
   ],
   "source": [
    "func_needs_decorator()"
   ]
  },
  {
   "cell_type": "code",
   "execution_count": 14,
   "id": "00cbbda8",
   "metadata": {},
   "outputs": [],
   "source": [
    "decorated_func = new_decorator(func_needs_decorator)"
   ]
  },
  {
   "cell_type": "code",
   "execution_count": 15,
   "id": "0f9dcfd7",
   "metadata": {},
   "outputs": [
    {
     "name": "stdout",
     "output_type": "stream",
     "text": [
      "Some extra code, before the original function\n",
      "I want to be decorated\n",
      "Some extra code, after the original function\n"
     ]
    }
   ],
   "source": [
    "decorated_func()"
   ]
  },
  {
   "cell_type": "code",
   "execution_count": null,
   "id": "3cd1dc3e",
   "metadata": {},
   "outputs": [],
   "source": []
  }
 ],
 "metadata": {
  "kernelspec": {
   "display_name": "Python 3",
   "language": "python",
   "name": "python3"
  },
  "language_info": {
   "codemirror_mode": {
    "name": "ipython",
    "version": 3
   },
   "file_extension": ".py",
   "mimetype": "text/x-python",
   "name": "python",
   "nbconvert_exporter": "python",
   "pygments_lexer": "ipython3",
   "version": "3.8.8"
  }
 },
 "nbformat": 4,
 "nbformat_minor": 5
}
