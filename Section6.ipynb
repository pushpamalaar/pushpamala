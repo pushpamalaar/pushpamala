{
 "cells": [
  {
   "cell_type": "code",
   "execution_count": null,
   "id": "b3f4a3e2",
   "metadata": {},
   "outputs": [],
   "source": [
    "Methods"
   ]
  },
  {
   "cell_type": "code",
   "execution_count": 1,
   "id": "b7b33da1",
   "metadata": {},
   "outputs": [],
   "source": [
    "mylist = [1,2,3]\n",
    "mylist.append(4)   #adding 4 to the mylist"
   ]
  },
  {
   "cell_type": "code",
   "execution_count": 2,
   "id": "c5e93b30",
   "metadata": {},
   "outputs": [
    {
     "data": {
      "text/plain": [
       "[1, 2, 3, 4]"
      ]
     },
     "execution_count": 2,
     "metadata": {},
     "output_type": "execute_result"
    }
   ],
   "source": [
    "mylist"
   ]
  },
  {
   "cell_type": "code",
   "execution_count": 4,
   "id": "f30c7e55",
   "metadata": {},
   "outputs": [
    {
     "data": {
      "text/plain": [
       "3"
      ]
     },
     "execution_count": 4,
     "metadata": {},
     "output_type": "execute_result"
    }
   ],
   "source": [
    "mylist.pop(2)     #removing the index 2 value from the list"
   ]
  },
  {
   "cell_type": "code",
   "execution_count": 6,
   "id": "63aedf3f",
   "metadata": {},
   "outputs": [
    {
     "data": {
      "text/plain": [
       "[1, 2, 4]"
      ]
     },
     "execution_count": 6,
     "metadata": {},
     "output_type": "execute_result"
    }
   ],
   "source": [
    "mylist"
   ]
  },
  {
   "cell_type": "code",
   "execution_count": 12,
   "id": "08f0cf08",
   "metadata": {},
   "outputs": [],
   "source": [
    "Function"
   ]
  },
  {
   "cell_type": "code",
   "execution_count": 1,
   "id": "a6995a74",
   "metadata": {},
   "outputs": [],
   "source": [
    "def say_hello():   #here function name say_hello\n",
    "    print(\"hello\")\n",
    "    print(\"how\")\n",
    "    print(\"are\")\n",
    "    print(\"you\")"
   ]
  },
  {
   "cell_type": "code",
   "execution_count": 2,
   "id": "77dcde40",
   "metadata": {},
   "outputs": [
    {
     "name": "stdout",
     "output_type": "stream",
     "text": [
      "hello\n",
      "how\n",
      "are\n",
      "you\n"
     ]
    }
   ],
   "source": [
    "say_hello()"
   ]
  },
  {
   "cell_type": "code",
   "execution_count": 3,
   "id": "0bf79d9d",
   "metadata": {},
   "outputs": [
    {
     "data": {
      "text/plain": [
       "<function __main__.say_hello()>"
      ]
     },
     "execution_count": 3,
     "metadata": {},
     "output_type": "execute_result"
    }
   ],
   "source": [
    "say_hello"
   ]
  },
  {
   "cell_type": "code",
   "execution_count": 1,
   "id": "899f6911",
   "metadata": {},
   "outputs": [],
   "source": [
    "def add_num(num1,num2):\n",
    "    return num1 + num2\n"
   ]
  },
  {
   "cell_type": "code",
   "execution_count": 4,
   "id": "f8d5303e",
   "metadata": {},
   "outputs": [
    {
     "data": {
      "text/plain": [
       "21"
      ]
     },
     "execution_count": 4,
     "metadata": {},
     "output_type": "execute_result"
    }
   ],
   "source": [
    "add_num(1,20)"
   ]
  },
  {
   "cell_type": "code",
   "execution_count": 5,
   "id": "24b2ca20",
   "metadata": {},
   "outputs": [
    {
     "data": {
      "text/plain": [
       "21"
      ]
     },
     "execution_count": 5,
     "metadata": {},
     "output_type": "execute_result"
    }
   ],
   "source": [
    "result = add_num(1,20)\n",
    "result"
   ]
  },
  {
   "cell_type": "code",
   "execution_count": 6,
   "id": "69222554",
   "metadata": {},
   "outputs": [],
   "source": [
    "def print_result(a,b):\n",
    "    print(a+b)"
   ]
  },
  {
   "cell_type": "code",
   "execution_count": 7,
   "id": "d4ddfe29",
   "metadata": {},
   "outputs": [
    {
     "name": "stdout",
     "output_type": "stream",
     "text": [
      "21\n"
     ]
    }
   ],
   "source": [
    "print_result(1,20)"
   ]
  },
  {
   "cell_type": "code",
   "execution_count": 13,
   "id": "43af557d",
   "metadata": {},
   "outputs": [
    {
     "name": "stdout",
     "output_type": "stream",
     "text": [
      "21\n"
     ]
    },
    {
     "data": {
      "text/plain": [
       "NoneType"
      ]
     },
     "execution_count": 13,
     "metadata": {},
     "output_type": "execute_result"
    }
   ],
   "source": [
    "result = print_result(1,20)\n",
    "result\n",
    "type(result)"
   ]
  },
  {
   "cell_type": "code",
   "execution_count": 9,
   "id": "742d76a9",
   "metadata": {},
   "outputs": [],
   "source": [
    "def return_results(a,b):\n",
    "    return a+b"
   ]
  },
  {
   "cell_type": "code",
   "execution_count": 10,
   "id": "51c371c7",
   "metadata": {},
   "outputs": [
    {
     "data": {
      "text/plain": [
       "int"
      ]
     },
     "execution_count": 10,
     "metadata": {},
     "output_type": "execute_result"
    }
   ],
   "source": [
    "result= return_results(1,20)\n",
    "result\n",
    "type(result)"
   ]
  },
  {
   "cell_type": "code",
   "execution_count": 11,
   "id": "2d608aa6",
   "metadata": {},
   "outputs": [],
   "source": [
    "def myfunc(a,b):\n",
    "    print(a+b)\n",
    "    return a+b"
   ]
  },
  {
   "cell_type": "code",
   "execution_count": 12,
   "id": "f4cf4945",
   "metadata": {},
   "outputs": [
    {
     "name": "stdout",
     "output_type": "stream",
     "text": [
      "21\n"
     ]
    },
    {
     "data": {
      "text/plain": [
       "21"
      ]
     },
     "execution_count": 12,
     "metadata": {},
     "output_type": "execute_result"
    }
   ],
   "source": [
    "result = myfunc(1,20)\n",
    "result"
   ]
  },
  {
   "cell_type": "code",
   "execution_count": 14,
   "id": "40545c4a",
   "metadata": {},
   "outputs": [],
   "source": [
    "def sum_num(num1,num2):\n",
    "    return num1 + num2"
   ]
  },
  {
   "cell_type": "code",
   "execution_count": 15,
   "id": "7a971043",
   "metadata": {},
   "outputs": [
    {
     "data": {
      "text/plain": [
       "21"
      ]
     },
     "execution_count": 15,
     "metadata": {},
     "output_type": "execute_result"
    }
   ],
   "source": [
    "sum_num(1,20)"
   ]
  },
  {
   "cell_type": "code",
   "execution_count": 16,
   "id": "e401e584",
   "metadata": {},
   "outputs": [
    {
     "data": {
      "text/plain": [
       "'120'"
      ]
     },
     "execution_count": 16,
     "metadata": {},
     "output_type": "execute_result"
    }
   ],
   "source": [
    "# Number in String Format and its combines the number\n",
    "sum_num('1','20')     "
   ]
  },
  {
   "cell_type": "code",
   "execution_count": 17,
   "id": "3f768820",
   "metadata": {},
   "outputs": [],
   "source": [
    "Logic with function"
   ]
  },
  {
   "cell_type": "code",
   "execution_count": 18,
   "id": "13d6f981",
   "metadata": {},
   "outputs": [
    {
     "data": {
      "text/plain": [
       "0"
      ]
     },
     "execution_count": 18,
     "metadata": {},
     "output_type": "execute_result"
    }
   ],
   "source": [
    "2 % 2    #Here performing modulus opertion"
   ]
  },
  {
   "cell_type": "code",
   "execution_count": 19,
   "id": "cf62f850",
   "metadata": {},
   "outputs": [
    {
     "data": {
      "text/plain": [
       "1"
      ]
     },
     "execution_count": 19,
     "metadata": {},
     "output_type": "execute_result"
    }
   ],
   "source": [
    "4 % 3"
   ]
  },
  {
   "cell_type": "code",
   "execution_count": 23,
   "id": "6d866682",
   "metadata": {},
   "outputs": [
    {
     "data": {
      "text/plain": [
       "1"
      ]
     },
     "execution_count": 23,
     "metadata": {},
     "output_type": "execute_result"
    }
   ],
   "source": [
    "42 % 41"
   ]
  },
  {
   "cell_type": "code",
   "execution_count": 26,
   "id": "d7bba76e",
   "metadata": {},
   "outputs": [
    {
     "data": {
      "text/plain": [
       "1"
      ]
     },
     "execution_count": 26,
     "metadata": {},
     "output_type": "execute_result"
    }
   ],
   "source": [
    "25 % 4"
   ]
  },
  {
   "cell_type": "code",
   "execution_count": 27,
   "id": "2c276e13",
   "metadata": {},
   "outputs": [
    {
     "data": {
      "text/plain": [
       "True"
      ]
     },
     "execution_count": 27,
     "metadata": {},
     "output_type": "execute_result"
    }
   ],
   "source": [
    "30 % 3 == 0    #comparing the value with 0"
   ]
  },
  {
   "cell_type": "code",
   "execution_count": 28,
   "id": "28843494",
   "metadata": {},
   "outputs": [
    {
     "data": {
      "text/plain": [
       "False"
      ]
     },
     "execution_count": 28,
     "metadata": {},
     "output_type": "execute_result"
    }
   ],
   "source": [
    "23 % 4 == 0"
   ]
  },
  {
   "cell_type": "code",
   "execution_count": 29,
   "id": "4f928f7e",
   "metadata": {},
   "outputs": [],
   "source": [
    "# Constructing the Logic opertion in Function\n",
    "def even_check(number):\n",
    "    result = number % 2 == 0\n",
    "    return result"
   ]
  },
  {
   "cell_type": "code",
   "execution_count": 31,
   "id": "e4012ba7",
   "metadata": {},
   "outputs": [
    {
     "data": {
      "text/plain": [
       "True"
      ]
     },
     "execution_count": 31,
     "metadata": {},
     "output_type": "execute_result"
    }
   ],
   "source": [
    "even_check(20)"
   ]
  },
  {
   "cell_type": "code",
   "execution_count": 32,
   "id": "5bb17597",
   "metadata": {},
   "outputs": [
    {
     "data": {
      "text/plain": [
       "False"
      ]
     },
     "execution_count": 32,
     "metadata": {},
     "output_type": "execute_result"
    }
   ],
   "source": [
    "even_check(27)"
   ]
  },
  {
   "cell_type": "code",
   "execution_count": 33,
   "id": "18dd0b70",
   "metadata": {},
   "outputs": [],
   "source": [
    "# Here trying to check the even number inside a list\n",
    "\n",
    "def check_even_list(num_list):\n",
    "    \n",
    "    for number in num_list:\n",
    "        if number % 2 == 0:\n",
    "            return True\n",
    "        else:\n",
    "            pass"
   ]
  },
  {
   "cell_type": "code",
   "execution_count": 35,
   "id": "b7252443",
   "metadata": {},
   "outputs": [
    {
     "data": {
      "text/plain": [
       "True"
      ]
     },
     "execution_count": 35,
     "metadata": {},
     "output_type": "execute_result"
    }
   ],
   "source": [
    "check_even_list([10,5,7,3])"
   ]
  },
  {
   "cell_type": "code",
   "execution_count": 4,
   "id": "950b9319",
   "metadata": {},
   "outputs": [],
   "source": [
    "# Here trying to check the even number inside a list\n",
    "def check_even_list(num_list):\n",
    "    \n",
    "    for number in num_list:\n",
    "        if number % 2 == 0:\n",
    "            return True\n",
    "        else:\n",
    "            return False "
   ]
  },
  {
   "cell_type": "code",
   "execution_count": 5,
   "id": "b24adfc4",
   "metadata": {},
   "outputs": [
    {
     "data": {
      "text/plain": [
       "True"
      ]
     },
     "execution_count": 5,
     "metadata": {},
     "output_type": "execute_result"
    }
   ],
   "source": [
    "check_even_list([10,5,7,3])"
   ]
  },
  {
   "cell_type": "code",
   "execution_count": 6,
   "id": "32bdfb35",
   "metadata": {},
   "outputs": [
    {
     "data": {
      "text/plain": [
       "False"
      ]
     },
     "execution_count": 6,
     "metadata": {},
     "output_type": "execute_result"
    }
   ],
   "source": [
    "check_even_list([5,7,3])"
   ]
  },
  {
   "cell_type": "code",
   "execution_count": 7,
   "id": "00239be8",
   "metadata": {},
   "outputs": [],
   "source": [
    "def check_even_list(num_list):\n",
    "    \n",
    "    for number in num_list:\n",
    "        if number % 2 == 0:\n",
    "            return True\n",
    "        else:\n",
    "            pass\n",
    "        \n",
    "    return False   "
   ]
  },
  {
   "cell_type": "code",
   "execution_count": 9,
   "id": "316f269d",
   "metadata": {},
   "outputs": [
    {
     "data": {
      "text/plain": [
       "True"
      ]
     },
     "execution_count": 9,
     "metadata": {},
     "output_type": "execute_result"
    }
   ],
   "source": [
    "check_even_list([2,3,4,5,6])"
   ]
  },
  {
   "cell_type": "code",
   "execution_count": 11,
   "id": "c7eb1b84",
   "metadata": {},
   "outputs": [
    {
     "data": {
      "text/plain": [
       "False"
      ]
     },
     "execution_count": 11,
     "metadata": {},
     "output_type": "execute_result"
    }
   ],
   "source": [
    "check_even_list([1,11,13,15])"
   ]
  },
  {
   "cell_type": "code",
   "execution_count": 12,
   "id": "ff0f368b",
   "metadata": {},
   "outputs": [],
   "source": [
    "Tuple Unpacking with Python Functions"
   ]
  },
  {
   "cell_type": "code",
   "execution_count": 13,
   "id": "895ae5dd",
   "metadata": {},
   "outputs": [],
   "source": [
    "stock_prices = [('APPL',200),('GOOG',400),('MSFT',100)]"
   ]
  },
  {
   "cell_type": "code",
   "execution_count": 14,
   "id": "95ce71c2",
   "metadata": {},
   "outputs": [
    {
     "name": "stdout",
     "output_type": "stream",
     "text": [
      "('APPL', 200)\n",
      "('GOOG', 400)\n",
      "('MSFT', 100)\n"
     ]
    }
   ],
   "source": [
    "for item in stock_prices:\n",
    "    print(item)"
   ]
  },
  {
   "cell_type": "code",
   "execution_count": 15,
   "id": "b5168012",
   "metadata": {},
   "outputs": [
    {
     "name": "stdout",
     "output_type": "stream",
     "text": [
      "APPL\n",
      "GOOG\n",
      "MSFT\n"
     ]
    }
   ],
   "source": [
    "for ticker, price in stock_prices:\n",
    "    print(ticker)"
   ]
  },
  {
   "cell_type": "code",
   "execution_count": 16,
   "id": "db5bc307",
   "metadata": {},
   "outputs": [
    {
     "name": "stdout",
     "output_type": "stream",
     "text": [
      "200\n",
      "400\n",
      "100\n"
     ]
    }
   ],
   "source": [
    "for ticker, price in stock_prices:\n",
    "    print(price)"
   ]
  },
  {
   "cell_type": "code",
   "execution_count": 18,
   "id": "56f447f8",
   "metadata": {},
   "outputs": [],
   "source": [
    "# Tracking that who work with max hours\n",
    "work_hours = [('A',100),('B',4000),('C',800)]"
   ]
  },
  {
   "cell_type": "code",
   "execution_count": 20,
   "id": "31d2182d",
   "metadata": {},
   "outputs": [],
   "source": [
    "def employee_check(work_hours):\n",
    "    \n",
    "    current_max = 0\n",
    "    employee_of_month = ''\n",
    "    \n",
    "    for employee,hours in work_hours:\n",
    "        if hours > current_max:\n",
    "            current_max = hours\n",
    "            employee_of_month = employee\n",
    "        else:\n",
    "            pass\n",
    "    \n",
    "    #Return\n",
    "    return(employee_of_month,current_max)"
   ]
  },
  {
   "cell_type": "code",
   "execution_count": 21,
   "id": "f79441f5",
   "metadata": {},
   "outputs": [
    {
     "data": {
      "text/plain": [
       "('B', 4000)"
      ]
     },
     "execution_count": 21,
     "metadata": {},
     "output_type": "execute_result"
    }
   ],
   "source": [
    "result = employee_check(work_hours)\n",
    "result"
   ]
  },
  {
   "cell_type": "code",
   "execution_count": 22,
   "id": "4a3abade",
   "metadata": {},
   "outputs": [],
   "source": [
    "Interaction between Functions"
   ]
  },
  {
   "cell_type": "code",
   "execution_count": 24,
   "id": "54b7ac41",
   "metadata": {},
   "outputs": [
    {
     "data": {
      "text/plain": [
       "[10, 90, 20, 45, 89, 34]"
      ]
     },
     "execution_count": 24,
     "metadata": {},
     "output_type": "execute_result"
    }
   ],
   "source": [
    "# the multiple functions interact here\n",
    "example = [10,20,34,45,89,90]\n",
    "\n",
    "from random import shuffle\n",
    "\n",
    "shuffle(example)\n",
    "example"
   ]
  },
  {
   "cell_type": "code",
   "execution_count": 25,
   "id": "ae61c355",
   "metadata": {},
   "outputs": [],
   "source": [
    "def shuffle_list(mylist):\n",
    "    shuffle(mylist)\n",
    "    return mylist"
   ]
  },
  {
   "cell_type": "code",
   "execution_count": 26,
   "id": "bd902827",
   "metadata": {},
   "outputs": [
    {
     "data": {
      "text/plain": [
       "[90, 20, 34, 89, 45, 10]"
      ]
     },
     "execution_count": 26,
     "metadata": {},
     "output_type": "execute_result"
    }
   ],
   "source": [
    "result = shuffle_list(example)\n",
    "result"
   ]
  },
  {
   "cell_type": "code",
   "execution_count": 27,
   "id": "d7635956",
   "metadata": {},
   "outputs": [
    {
     "data": {
      "text/plain": [
       "['0', ' ', '0']"
      ]
     },
     "execution_count": 27,
     "metadata": {},
     "output_type": "execute_result"
    }
   ],
   "source": [
    "mylist = ['0', '0',' ']\n",
    "\n",
    "shuffle_list(mylist)"
   ]
  },
  {
   "cell_type": "code",
   "execution_count": 28,
   "id": "619170f9",
   "metadata": {},
   "outputs": [],
   "source": [
    "Function 3: Simple Boolean"
   ]
  },
  {
   "cell_type": "code",
   "execution_count": 10,
   "id": "5c4bd226",
   "metadata": {},
   "outputs": [],
   "source": [
    "def myclass(i):\n",
    "    if i == True:\n",
    "        return 'hello'\n",
    "    else:\n",
    "        return 'Pushpa'"
   ]
  },
  {
   "cell_type": "code",
   "execution_count": 11,
   "id": "931ac69e",
   "metadata": {},
   "outputs": [],
   "source": [
    "def myclass(i):\n",
    "    if i == True:\n",
    "        return 'Hello'\n",
    "    elif i== False:\n",
    "        return 'Pushpa'\n",
    "    else:\n",
    "        return 'Enter a Valid Option'"
   ]
  },
  {
   "cell_type": "code",
   "execution_count": 14,
   "id": "5183f2a8",
   "metadata": {},
   "outputs": [
    {
     "data": {
      "text/plain": [
       "'Hello'"
      ]
     },
     "execution_count": 14,
     "metadata": {},
     "output_type": "execute_result"
    }
   ],
   "source": [
    "myclass(True)"
   ]
  },
  {
   "cell_type": "code",
   "execution_count": 15,
   "id": "3d502be9",
   "metadata": {},
   "outputs": [
    {
     "data": {
      "text/plain": [
       "'Pushpa'"
      ]
     },
     "execution_count": 15,
     "metadata": {},
     "output_type": "execute_result"
    }
   ],
   "source": [
    "myclass(False)"
   ]
  },
  {
   "cell_type": "code",
   "execution_count": 16,
   "id": "724c1ee0",
   "metadata": {},
   "outputs": [
    {
     "data": {
      "text/plain": [
       "'Enter a Valid Option'"
      ]
     },
     "execution_count": 16,
     "metadata": {},
     "output_type": "execute_result"
    }
   ],
   "source": [
    "myclass('no')"
   ]
  },
  {
   "cell_type": "code",
   "execution_count": 17,
   "id": "e90be79a",
   "metadata": {},
   "outputs": [],
   "source": [
    "Function 4: Using Booleans"
   ]
  },
  {
   "cell_type": "code",
   "execution_count": 18,
   "id": "6afaadb7",
   "metadata": {},
   "outputs": [],
   "source": [
    "def myclass(a,b,c):\n",
    "    if c == True:\n",
    "        return a\n",
    "    elif c == False:\n",
    "        return b"
   ]
  },
  {
   "cell_type": "code",
   "execution_count": 19,
   "id": "2bd1691e",
   "metadata": {},
   "outputs": [
    {
     "data": {
      "text/plain": [
       "3"
      ]
     },
     "execution_count": 19,
     "metadata": {},
     "output_type": "execute_result"
    }
   ],
   "source": [
    "myclass(2,3,False)"
   ]
  },
  {
   "cell_type": "code",
   "execution_count": 21,
   "id": "1993a264",
   "metadata": {},
   "outputs": [],
   "source": [
    "#Function 5: Simple Math"
   ]
  },
  {
   "cell_type": "code",
   "execution_count": 3,
   "id": "a4c3d6b1",
   "metadata": {},
   "outputs": [],
   "source": [
    "def myclass(a,b):\n",
    "    return a + b"
   ]
  },
  {
   "cell_type": "code",
   "execution_count": 4,
   "id": "986df86c",
   "metadata": {},
   "outputs": [
    {
     "data": {
      "text/plain": [
       "2"
      ]
     },
     "execution_count": 4,
     "metadata": {},
     "output_type": "execute_result"
    }
   ],
   "source": [
    "myclass(1,1)"
   ]
  },
  {
   "cell_type": "code",
   "execution_count": 5,
   "id": "38e38464",
   "metadata": {},
   "outputs": [],
   "source": [
    "Function 6: is even"
   ]
  },
  {
   "cell_type": "code",
   "execution_count": 6,
   "id": "ca646dc2",
   "metadata": {},
   "outputs": [],
   "source": [
    "def is_even(i):\n",
    "    if i%2 == 0:\n",
    "        return True\n",
    "    else:\n",
    "        return False"
   ]
  },
  {
   "cell_type": "code",
   "execution_count": 7,
   "id": "25cb73d1",
   "metadata": {},
   "outputs": [
    {
     "data": {
      "text/plain": [
       "True"
      ]
     },
     "execution_count": 7,
     "metadata": {},
     "output_type": "execute_result"
    }
   ],
   "source": [
    "is_even(22)"
   ]
  },
  {
   "cell_type": "code",
   "execution_count": 8,
   "id": "fcd878e0",
   "metadata": {},
   "outputs": [
    {
     "data": {
      "text/plain": [
       "False"
      ]
     },
     "execution_count": 8,
     "metadata": {},
     "output_type": "execute_result"
    }
   ],
   "source": [
    "is_even(11)"
   ]
  },
  {
   "cell_type": "code",
   "execution_count": 9,
   "id": "15f59e9d",
   "metadata": {},
   "outputs": [],
   "source": [
    "Function 7: is greater"
   ]
  },
  {
   "cell_type": "code",
   "execution_count": 10,
   "id": "04dddfb0",
   "metadata": {},
   "outputs": [],
   "source": [
    "def is_greater(x,y):\n",
    "    if x > y:\n",
    "        return True\n",
    "    elif x <= y:\n",
    "        return False"
   ]
  },
  {
   "cell_type": "code",
   "execution_count": 11,
   "id": "30c45847",
   "metadata": {},
   "outputs": [
    {
     "data": {
      "text/plain": [
       "True"
      ]
     },
     "execution_count": 11,
     "metadata": {},
     "output_type": "execute_result"
    }
   ],
   "source": [
    "is_greater(100, 5)"
   ]
  },
  {
   "cell_type": "code",
   "execution_count": 12,
   "id": "0566611d",
   "metadata": {},
   "outputs": [
    {
     "data": {
      "text/plain": [
       "False"
      ]
     },
     "execution_count": 12,
     "metadata": {},
     "output_type": "execute_result"
    }
   ],
   "source": [
    "is_greater(11, 50)"
   ]
  },
  {
   "cell_type": "code",
   "execution_count": 14,
   "id": "1718f019",
   "metadata": {},
   "outputs": [],
   "source": [
    "args and kwargs"
   ]
  },
  {
   "cell_type": "code",
   "execution_count": 15,
   "id": "4a629efe",
   "metadata": {},
   "outputs": [],
   "source": [
    "def myclass(a,b):\n",
    "    \n",
    "    return sum((a,b))*0.05"
   ]
  },
  {
   "cell_type": "code",
   "execution_count": 16,
   "id": "fdc915d0",
   "metadata": {},
   "outputs": [
    {
     "data": {
      "text/plain": [
       "3.75"
      ]
     },
     "execution_count": 16,
     "metadata": {},
     "output_type": "execute_result"
    }
   ],
   "source": [
    "myclass(30,45)"
   ]
  },
  {
   "cell_type": "code",
   "execution_count": 18,
   "id": "2ee06556",
   "metadata": {},
   "outputs": [],
   "source": [
    "#args\n",
    "def myclass(*args):\n",
    "    for item in args:\n",
    "        print(item)"
   ]
  },
  {
   "cell_type": "code",
   "execution_count": 20,
   "id": "b6e33e47",
   "metadata": {},
   "outputs": [
    {
     "name": "stdout",
     "output_type": "stream",
     "text": [
      "1\n",
      "2\n",
      "3\n",
      "4\n",
      "5\n",
      "6\n",
      "7\n",
      "8\n",
      "9\n"
     ]
    }
   ],
   "source": [
    "myclass(1,2,3,4,5,6,7,8,9)"
   ]
  },
  {
   "cell_type": "code",
   "execution_count": 21,
   "id": "c9d619d8",
   "metadata": {},
   "outputs": [],
   "source": [
    "**kwargs(keyword arguments) - build dictionary of key value pairs"
   ]
  },
  {
   "cell_type": "code",
   "execution_count": 22,
   "id": "5fc29c3d",
   "metadata": {},
   "outputs": [],
   "source": [
    "def myclass(**kwargs):\n",
    "    print(kwargs)\n",
    "    if 'fruit' in kwargs:\n",
    "        print('My fruit of choice is {}'.format(kwargs['fruit']))\n",
    "    else:\n",
    "        print('I did not find any fruit')"
   ]
  },
  {
   "cell_type": "code",
   "execution_count": 24,
   "id": "7947bfc5",
   "metadata": {},
   "outputs": [
    {
     "name": "stdout",
     "output_type": "stream",
     "text": [
      "{'fruit': 'apple', 'veggie': 'lettuce'}\n",
      "My fruit of choice is apple\n"
     ]
    }
   ],
   "source": [
    "myclass(fruit = 'apple',veggie = 'lettuce')\n"
   ]
  },
  {
   "cell_type": "code",
   "execution_count": 26,
   "id": "dbac347a",
   "metadata": {},
   "outputs": [
    {
     "name": "stdout",
     "output_type": "stream",
     "text": [
      "{'veggie': 'lettuce'}\n",
      "I did not find any fruit\n"
     ]
    }
   ],
   "source": [
    "myclass(veggie = 'lettuce')"
   ]
  },
  {
   "cell_type": "code",
   "execution_count": 27,
   "id": "2638437c",
   "metadata": {},
   "outputs": [],
   "source": [
    "# pick evens"
   ]
  },
  {
   "cell_type": "code",
   "execution_count": 30,
   "id": "65a94d4e",
   "metadata": {},
   "outputs": [],
   "source": [
    "def myclass(*args):\n",
    "    for num in args:\n",
    "        if num %2 == 0:\n",
    "            print('{}'.format([num]))"
   ]
  },
  {
   "cell_type": "code",
   "execution_count": 31,
   "id": "cc574e30",
   "metadata": {},
   "outputs": [
    {
     "name": "stdout",
     "output_type": "stream",
     "text": [
      "[2]\n",
      "[4]\n",
      "[6]\n",
      "[8]\n"
     ]
    }
   ],
   "source": [
    "myclass(2,4,6,7,8)"
   ]
  },
  {
   "cell_type": "code",
   "execution_count": 32,
   "id": "28c0f687",
   "metadata": {},
   "outputs": [],
   "source": [
    "Lambda Expression"
   ]
  },
  {
   "cell_type": "code",
   "execution_count": 35,
   "id": "3f217712",
   "metadata": {},
   "outputs": [],
   "source": [
    "square = lambda num: num ** 2"
   ]
  },
  {
   "cell_type": "code",
   "execution_count": 37,
   "id": "cc4919b5",
   "metadata": {},
   "outputs": [
    {
     "data": {
      "text/plain": [
       "100"
      ]
     },
     "execution_count": 37,
     "metadata": {},
     "output_type": "execute_result"
    }
   ],
   "source": [
    "square(10)"
   ]
  },
  {
   "cell_type": "code",
   "execution_count": 3,
   "id": "b4df6f50",
   "metadata": {},
   "outputs": [],
   "source": [
    "x = 25\n",
    "\n",
    "def printer():\n",
    "    x = 50\n",
    "    return x"
   ]
  },
  {
   "cell_type": "code",
   "execution_count": 4,
   "id": "b6d9dc7f",
   "metadata": {},
   "outputs": [
    {
     "name": "stdout",
     "output_type": "stream",
     "text": [
      "25\n"
     ]
    }
   ],
   "source": [
    "print(x)"
   ]
  },
  {
   "cell_type": "code",
   "execution_count": 8,
   "id": "990f8ab3",
   "metadata": {},
   "outputs": [],
   "source": [
    "Variable Referencing - Local,Enclosing function locals, Global & Built-in"
   ]
  },
  {
   "cell_type": "code",
   "execution_count": 9,
   "id": "314667c0",
   "metadata": {},
   "outputs": [
    {
     "data": {
      "text/plain": [
       "<function __main__.<lambda>(num)>"
      ]
     },
     "execution_count": 9,
     "metadata": {},
     "output_type": "execute_result"
    }
   ],
   "source": [
    "#Local Variable as num\n",
    "lambda num:num**2"
   ]
  },
  {
   "cell_type": "code",
   "execution_count": 11,
   "id": "49feda46",
   "metadata": {},
   "outputs": [
    {
     "name": "stdout",
     "output_type": "stream",
     "text": [
      "Hello welcome\n"
     ]
    }
   ],
   "source": [
    "# Global\n",
    "name = 'THIS IS A GLOBAL STRING'\n",
    "\n",
    "def greet():\n",
    "    \n",
    "    #Enclosing\n",
    "    name = 'Pushpa'\n",
    "    \n",
    "    def hello():\n",
    "        #Local\n",
    "        name = 'welcome'\n",
    "        print('Hello '+name)\n",
    "        \n",
    "    hello()\n",
    "    \n",
    "greet()"
   ]
  },
  {
   "cell_type": "code",
   "execution_count": 13,
   "id": "d5ae00d6",
   "metadata": {},
   "outputs": [
    {
     "name": "stdout",
     "output_type": "stream",
     "text": [
      "Hello Pushpa\n"
     ]
    }
   ],
   "source": [
    "# Global\n",
    "name = 'THIS IS A GLOBAL STRING'\n",
    "\n",
    "def greet():\n",
    "    \n",
    "    #Enclosing\n",
    "    name = 'Pushpa'\n",
    "    \n",
    "    def hello():\n",
    "        #Local\n",
    "        #name = 'welcome'\n",
    "        print('Hello '+name)\n",
    "        \n",
    "    hello()\n",
    "    \n",
    "greet()"
   ]
  },
  {
   "cell_type": "code",
   "execution_count": 16,
   "id": "2ab32001",
   "metadata": {},
   "outputs": [],
   "source": [
    "x = 100\n",
    "def func(x):\n",
    "    \n",
    "    print(f'X is {x}')\n",
    "    \n",
    "    #LOCAL REASSIGNMENT ON A GLOBAL VARIABLE!\n",
    "    x = 'new value'\n",
    "    print(f'I JUST LOCALLY CHANGED X TO {x}')\n",
    "    return x"
   ]
  },
  {
   "cell_type": "code",
   "execution_count": 17,
   "id": "515f84b9",
   "metadata": {},
   "outputs": [
    {
     "name": "stdout",
     "output_type": "stream",
     "text": [
      "100\n"
     ]
    }
   ],
   "source": [
    "print(x)"
   ]
  },
  {
   "cell_type": "code",
   "execution_count": 18,
   "id": "7ed5efad",
   "metadata": {},
   "outputs": [
    {
     "name": "stdout",
     "output_type": "stream",
     "text": [
      "X is 100\n",
      "I JUST LOCALLY CHANGED X TO new value\n"
     ]
    }
   ],
   "source": [
    "x = func(x)"
   ]
  },
  {
   "cell_type": "code",
   "execution_count": 19,
   "id": "c7c3de33",
   "metadata": {},
   "outputs": [
    {
     "data": {
      "text/plain": [
       "'new value'"
      ]
     },
     "execution_count": 19,
     "metadata": {},
     "output_type": "execute_result"
    }
   ],
   "source": [
    "x "
   ]
  },
  {
   "cell_type": "code",
   "execution_count": null,
   "id": "3dc1f8ba",
   "metadata": {},
   "outputs": [],
   "source": []
  }
 ],
 "metadata": {
  "kernelspec": {
   "display_name": "Python 3",
   "language": "python",
   "name": "python3"
  },
  "language_info": {
   "codemirror_mode": {
    "name": "ipython",
    "version": 3
   },
   "file_extension": ".py",
   "mimetype": "text/x-python",
   "name": "python",
   "nbconvert_exporter": "python",
   "pygments_lexer": "ipython3",
   "version": "3.8.8"
  }
 },
 "nbformat": 4,
 "nbformat_minor": 5
}
