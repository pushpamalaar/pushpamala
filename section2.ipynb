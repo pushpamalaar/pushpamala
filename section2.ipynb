{
 "cells": [
  {
   "cell_type": "code",
   "execution_count": 2,
   "id": "b9ce655b",
   "metadata": {},
   "outputs": [
    {
     "data": {
      "text/plain": [
       "True"
      ]
     },
     "execution_count": 2,
     "metadata": {},
     "output_type": "execute_result"
    }
   ],
   "source": [
    "2==2          #comparining two operands using equal operator"
   ]
  },
  {
   "cell_type": "code",
   "execution_count": 3,
   "id": "2f5bfc9c",
   "metadata": {},
   "outputs": [
    {
     "data": {
      "text/plain": [
       "False"
      ]
     },
     "execution_count": 3,
     "metadata": {},
     "output_type": "execute_result"
    }
   ],
   "source": [
    "2==3          "
   ]
  },
  {
   "cell_type": "code",
   "execution_count": 5,
   "id": "2556900b",
   "metadata": {},
   "outputs": [
    {
     "data": {
      "text/plain": [
       "True"
      ]
     },
     "execution_count": 5,
     "metadata": {},
     "output_type": "execute_result"
    }
   ],
   "source": [
    "3!=2         #using not equal operator"
   ]
  },
  {
   "cell_type": "code",
   "execution_count": 6,
   "id": "141b87c5",
   "metadata": {},
   "outputs": [
    {
     "data": {
      "text/plain": [
       "False"
      ]
     },
     "execution_count": 6,
     "metadata": {},
     "output_type": "execute_result"
    }
   ],
   "source": [
    "10!=10"
   ]
  },
  {
   "cell_type": "code",
   "execution_count": 7,
   "id": "ab17099f",
   "metadata": {},
   "outputs": [
    {
     "data": {
      "text/plain": [
       "True"
      ]
     },
     "execution_count": 7,
     "metadata": {},
     "output_type": "execute_result"
    }
   ],
   "source": [
    "3>2        #using greater than operator"
   ]
  },
  {
   "cell_type": "code",
   "execution_count": 12,
   "id": "1de6e82f",
   "metadata": {},
   "outputs": [
    {
     "data": {
      "text/plain": [
       "False"
      ]
     },
     "execution_count": 12,
     "metadata": {},
     "output_type": "execute_result"
    }
   ],
   "source": [
    "10>12"
   ]
  },
  {
   "cell_type": "code",
   "execution_count": 10,
   "id": "95e1ac5b",
   "metadata": {},
   "outputs": [
    {
     "data": {
      "text/plain": [
       "False"
      ]
     },
     "execution_count": 10,
     "metadata": {},
     "output_type": "execute_result"
    }
   ],
   "source": [
    "3<2         #using less than operator"
   ]
  },
  {
   "cell_type": "code",
   "execution_count": 14,
   "id": "54af459b",
   "metadata": {},
   "outputs": [
    {
     "data": {
      "text/plain": [
       "True"
      ]
     },
     "execution_count": 14,
     "metadata": {},
     "output_type": "execute_result"
    }
   ],
   "source": [
    "10.0<11"
   ]
  },
  {
   "cell_type": "code",
   "execution_count": 9,
   "id": "7ff1a75f",
   "metadata": {},
   "outputs": [
    {
     "data": {
      "text/plain": [
       "True"
      ]
     },
     "execution_count": 9,
     "metadata": {},
     "output_type": "execute_result"
    }
   ],
   "source": [
    "3<=4        #using less than or equal operator"
   ]
  },
  {
   "cell_type": "code",
   "execution_count": 15,
   "id": "5a6d17c4",
   "metadata": {},
   "outputs": [
    {
     "data": {
      "text/plain": [
       "False"
      ]
     },
     "execution_count": 15,
     "metadata": {},
     "output_type": "execute_result"
    }
   ],
   "source": [
    "5<=4"
   ]
  },
  {
   "cell_type": "code",
   "execution_count": 16,
   "id": "bd80f83d",
   "metadata": {},
   "outputs": [
    {
     "data": {
      "text/plain": [
       "False"
      ]
     },
     "execution_count": 16,
     "metadata": {},
     "output_type": "execute_result"
    }
   ],
   "source": [
    "10>=12     #using greater than or equal operator"
   ]
  },
  {
   "cell_type": "code",
   "execution_count": 17,
   "id": "b33d2063",
   "metadata": {},
   "outputs": [
    {
     "data": {
      "text/plain": [
       "True"
      ]
     },
     "execution_count": 17,
     "metadata": {},
     "output_type": "execute_result"
    }
   ],
   "source": [
    "12>=10"
   ]
  },
  {
   "cell_type": "code",
   "execution_count": 19,
   "id": "be6d8e90",
   "metadata": {},
   "outputs": [
    {
     "data": {
      "text/plain": [
       "False"
      ]
     },
     "execution_count": 19,
     "metadata": {},
     "output_type": "execute_result"
    }
   ],
   "source": [
    "'Welcome'=='welcome'    #comparise with upper and lower case letter"
   ]
  },
  {
   "cell_type": "code",
   "execution_count": 20,
   "id": "b5517eaf",
   "metadata": {},
   "outputs": [
    {
     "data": {
      "text/plain": [
       "True"
      ]
     },
     "execution_count": 20,
     "metadata": {},
     "output_type": "execute_result"
    }
   ],
   "source": [
    "'welcome'=='welcome'"
   ]
  },
  {
   "cell_type": "code",
   "execution_count": 21,
   "id": "a0b32e12",
   "metadata": {},
   "outputs": [
    {
     "data": {
      "text/plain": [
       "False"
      ]
     },
     "execution_count": 21,
     "metadata": {},
     "output_type": "execute_result"
    }
   ],
   "source": [
    "'good'=='god'      #the string length is not same"
   ]
  },
  {
   "cell_type": "code",
   "execution_count": 22,
   "id": "46eb0e9b",
   "metadata": {},
   "outputs": [
    {
     "data": {
      "text/plain": [
       "False"
      ]
     },
     "execution_count": 22,
     "metadata": {},
     "output_type": "execute_result"
    }
   ],
   "source": [
    "'2.0'==2         #reads the string its not equal to number"
   ]
  },
  {
   "cell_type": "code",
   "execution_count": 23,
   "id": "2b4e6f1f",
   "metadata": {},
   "outputs": [
    {
     "data": {
      "text/plain": [
       "True"
      ]
     },
     "execution_count": 23,
     "metadata": {},
     "output_type": "execute_result"
    }
   ],
   "source": [
    "'2'=='2'"
   ]
  },
  {
   "cell_type": "code",
   "execution_count": 24,
   "id": "601e7063",
   "metadata": {},
   "outputs": [
    {
     "data": {
      "text/plain": [
       "True"
      ]
     },
     "execution_count": 24,
     "metadata": {},
     "output_type": "execute_result"
    }
   ],
   "source": [
    "2.0==2"
   ]
  },
  {
   "cell_type": "code",
   "execution_count": null,
   "id": "6200824d",
   "metadata": {},
   "outputs": [],
   "source": []
  },
  {
   "cell_type": "code",
   "execution_count": 25,
   "id": "e0024c76",
   "metadata": {},
   "outputs": [],
   "source": [
    "a=10"
   ]
  },
  {
   "cell_type": "code",
   "execution_count": 26,
   "id": "96f65aa9",
   "metadata": {},
   "outputs": [],
   "source": [
    "b=20\n"
   ]
  },
  {
   "cell_type": "code",
   "execution_count": 27,
   "id": "2c3539cf",
   "metadata": {},
   "outputs": [],
   "source": [
    "c=5"
   ]
  },
  {
   "cell_type": "code",
   "execution_count": 28,
   "id": "bf189e43",
   "metadata": {},
   "outputs": [
    {
     "name": "stdout",
     "output_type": "stream",
     "text": [
      "True\n"
     ]
    }
   ],
   "source": [
    "print(c<a)"
   ]
  },
  {
   "cell_type": "code",
   "execution_count": 30,
   "id": "2031f8b0",
   "metadata": {},
   "outputs": [
    {
     "name": "stdout",
     "output_type": "stream",
     "text": [
      "True\n"
     ]
    }
   ],
   "source": [
    "print(c<b)        "
   ]
  },
  {
   "cell_type": "code",
   "execution_count": 31,
   "id": "cf468d32",
   "metadata": {},
   "outputs": [
    {
     "name": "stdout",
     "output_type": "stream",
     "text": [
      "False\n"
     ]
    }
   ],
   "source": [
    "print(b<a)"
   ]
  },
  {
   "cell_type": "code",
   "execution_count": 32,
   "id": "eab43705",
   "metadata": {},
   "outputs": [
    {
     "name": "stdout",
     "output_type": "stream",
     "text": [
      "False\n"
     ]
    }
   ],
   "source": [
    "print(c<b<a)      #c<b is true...but b<a is false..so in python if the one is condition is false ...output will false in bollean"
   ]
  },
  {
   "cell_type": "code",
   "execution_count": 34,
   "id": "80730daf",
   "metadata": {},
   "outputs": [],
   "source": [
    "x=50"
   ]
  },
  {
   "cell_type": "code",
   "execution_count": 35,
   "id": "cfef7bf4",
   "metadata": {},
   "outputs": [
    {
     "name": "stdout",
     "output_type": "stream",
     "text": [
      "True\n"
     ]
    }
   ],
   "source": [
    "print(1<x<100)     #using chaning comparsion operations"
   ]
  },
  {
   "cell_type": "code",
   "execution_count": 36,
   "id": "91ba12dc",
   "metadata": {},
   "outputs": [
    {
     "name": "stdout",
     "output_type": "stream",
     "text": [
      "False\n"
     ]
    }
   ],
   "source": [
    "print(100<x<50)"
   ]
  },
  {
   "cell_type": "code",
   "execution_count": 39,
   "id": "05a14add",
   "metadata": {},
   "outputs": [
    {
     "name": "stdout",
     "output_type": "stream",
     "text": [
      "True\n"
     ]
    }
   ],
   "source": [
    "print(50==x>40)"
   ]
  },
  {
   "cell_type": "code",
   "execution_count": null,
   "id": "da405a82",
   "metadata": {},
   "outputs": [],
   "source": []
  }
 ],
 "metadata": {
  "kernelspec": {
   "display_name": "Python 3",
   "language": "python",
   "name": "python3"
  },
  "language_info": {
   "codemirror_mode": {
    "name": "ipython",
    "version": 3
   },
   "file_extension": ".py",
   "mimetype": "text/x-python",
   "name": "python",
   "nbconvert_exporter": "python",
   "pygments_lexer": "ipython3",
   "version": "3.8.8"
  }
 },
 "nbformat": 4,
 "nbformat_minor": 5
}
