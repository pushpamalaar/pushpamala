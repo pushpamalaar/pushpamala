{
 "cells": [
  {
   "cell_type": "markdown",
   "id": "f2d09f11",
   "metadata": {},
   "source": [
    "PDFS & SPREADSHEETS"
   ]
  },
  {
   "cell_type": "code",
   "execution_count": 1,
   "id": "148f3da9",
   "metadata": {},
   "outputs": [
    {
     "data": {
      "text/plain": [
       "'C:\\\\Users\\\\X238617'"
      ]
     },
     "execution_count": 1,
     "metadata": {},
     "output_type": "execute_result"
    }
   ],
   "source": [
    "pwd"
   ]
  },
  {
   "cell_type": "code",
   "execution_count": 2,
   "id": "4e691a9a",
   "metadata": {},
   "outputs": [],
   "source": [
    "import csv"
   ]
  },
  {
   "cell_type": "code",
   "execution_count": 13,
   "id": "69c0c587",
   "metadata": {},
   "outputs": [],
   "source": [
    "data = open('sample.csv',encoding = 'utf-8')              #Open the file"
   ]
  },
  {
   "cell_type": "code",
   "execution_count": 14,
   "id": "52933f54",
   "metadata": {},
   "outputs": [],
   "source": [
    "csv_data = csv.reader(data)                                  # csv.reader"
   ]
  },
  {
   "cell_type": "code",
   "execution_count": 15,
   "id": "bb578597",
   "metadata": {},
   "outputs": [],
   "source": [
    "data_lines = list(csv_data)"
   ]
  },
  {
   "cell_type": "code",
   "execution_count": 16,
   "id": "124b9c9c",
   "metadata": {},
   "outputs": [
    {
     "data": {
      "text/plain": [
       "['Username; Identifier;First name;Last name']"
      ]
     },
     "execution_count": 16,
     "metadata": {},
     "output_type": "execute_result"
    }
   ],
   "source": [
    "data_lines[0]"
   ]
  },
  {
   "cell_type": "code",
   "execution_count": 17,
   "id": "0423c4f3",
   "metadata": {},
   "outputs": [
    {
     "data": {
      "text/plain": [
       "7"
      ]
     },
     "execution_count": 17,
     "metadata": {},
     "output_type": "execute_result"
    }
   ],
   "source": [
    "len(data_lines)"
   ]
  },
  {
   "cell_type": "code",
   "execution_count": 18,
   "id": "46739e02",
   "metadata": {},
   "outputs": [
    {
     "name": "stdout",
     "output_type": "stream",
     "text": [
      "['Username; Identifier;First name;Last name']\n",
      "['booker12;9012;Rachel;Booker']\n",
      "['grey07;2070;Laura;Grey']\n",
      "['johnson81;4081;Craig;Johnson']\n",
      "['jenkins46;9346;Mary;Jenkins']\n"
     ]
    }
   ],
   "source": [
    "for line in data_lines[:5]:\n",
    "    print(line)"
   ]
  },
  {
   "cell_type": "code",
   "execution_count": 25,
   "id": "ba6bcf51",
   "metadata": {},
   "outputs": [
    {
     "data": {
      "text/plain": [
       "['grey07;2070;Laura;Grey']"
      ]
     },
     "execution_count": 25,
     "metadata": {},
     "output_type": "execute_result"
    }
   ],
   "source": [
    "data_lines[2]"
   ]
  },
  {
   "cell_type": "markdown",
   "id": "2721a91d",
   "metadata": {},
   "source": [
    "PDF file"
   ]
  },
  {
   "cell_type": "code",
   "execution_count": 28,
   "id": "618dabb4",
   "metadata": {},
   "outputs": [
    {
     "name": "stdout",
     "output_type": "stream",
     "text": [
      "Requirement already satisfied: PyPDF2 in c:\\programdata\\anaconda3\\lib\\site-packages (1.26.0)Note: you may need to restart the kernel to use updated packages.\n",
      "\n"
     ]
    }
   ],
   "source": [
    "pip install PyPDF2"
   ]
  },
  {
   "cell_type": "code",
   "execution_count": 29,
   "id": "4a041a66",
   "metadata": {},
   "outputs": [],
   "source": [
    "import PyPDF2"
   ]
  },
  {
   "cell_type": "code",
   "execution_count": 30,
   "id": "32c20f87",
   "metadata": {},
   "outputs": [],
   "source": [
    "f = open('samples.pdf','rb')"
   ]
  },
  {
   "cell_type": "code",
   "execution_count": 31,
   "id": "d84510f8",
   "metadata": {},
   "outputs": [],
   "source": [
    "pdf_reader = PyPDF2.PdfFileReader(f)"
   ]
  },
  {
   "cell_type": "code",
   "execution_count": 32,
   "id": "4d04ee7d",
   "metadata": {},
   "outputs": [
    {
     "data": {
      "text/plain": [
       "4"
      ]
     },
     "execution_count": 32,
     "metadata": {},
     "output_type": "execute_result"
    }
   ],
   "source": [
    "pdf_reader.numPages"
   ]
  },
  {
   "cell_type": "code",
   "execution_count": 33,
   "id": "b8b3b4dc",
   "metadata": {},
   "outputs": [],
   "source": [
    "page_one = pdf_reader.getPage(0)"
   ]
  },
  {
   "cell_type": "code",
   "execution_count": 34,
   "id": "43318cf4",
   "metadata": {},
   "outputs": [],
   "source": [
    "page_one_text = page_one.extractText()"
   ]
  },
  {
   "cell_type": "code",
   "execution_count": 35,
   "id": "b0fc0b7f",
   "metadata": {},
   "outputs": [
    {
     "data": {
      "text/plain": [
       "'\\n\\n˘ˇˇˇ\\nˇ\\n\\n\\nˆˇ\\n˝\\nˇˇ\\n\\n˚\\n˜˙ˆ\\nˇˆ\\n\\nˆˇˇ\\n·˘\\n·\\n· ˜\\n·ˆˇ!\\n˜ˇ\\n\\n·ˆ\\n·ˆˇ\"ˇ\\n\\n\\n\\n\\n\\n\\n\\n\\n\\n'"
      ]
     },
     "execution_count": 35,
     "metadata": {},
     "output_type": "execute_result"
    }
   ],
   "source": [
    "page_one_text"
   ]
  },
  {
   "cell_type": "code",
   "execution_count": 36,
   "id": "19f5f2c4",
   "metadata": {},
   "outputs": [],
   "source": [
    "f.close()"
   ]
  },
  {
   "cell_type": "code",
   "execution_count": 37,
   "id": "447b3953",
   "metadata": {},
   "outputs": [],
   "source": [
    "f = open('samples.pdf','rb')\n",
    "pdf_reader = PyPDF2.PdfFileReader(f)"
   ]
  },
  {
   "cell_type": "code",
   "execution_count": 38,
   "id": "bf4cfc6f",
   "metadata": {},
   "outputs": [],
   "source": [
    "f = open('samples.pdf','rb')\n",
    "\n",
    "pdf_text = []\n",
    "\n",
    "pdf_reader = PyPDF2.PdfFileReader(f)\n",
    "\n",
    "for num in range(pdf_reader.numPages):\n",
    "    \n",
    "    page = pdf_reader.getPage(num)\n",
    "    \n",
    "    pdf_text.append(page.extractText())"
   ]
  },
  {
   "cell_type": "code",
   "execution_count": 39,
   "id": "fbb1168e",
   "metadata": {},
   "outputs": [
    {
     "data": {
      "text/plain": [
       "['\\n\\n˘ˇˇˇ\\nˇ\\n\\n\\nˆˇ\\n˝\\nˇˇ\\n\\n˚\\n˜˙ˆ\\nˇˆ\\n\\nˆˇˇ\\n·˘\\n·\\n· ˜\\n·ˆˇ!\\n˜ˇ\\n\\n·ˆ\\n·ˆˇ\"ˇ\\n\\n\\n\\n\\n\\n\\n\\n\\n\\n',\n",
       " '˛˜#˚\"˝\\nˇˇ#\\n˘ˇ\\nˇ\\n˙ˇ˜˝ˇˇ\\n$ˇ\"ˇ˝˜\\n˘\\n˛˙ˇˇˇ%\\nˇ \\n&ˇ\\n!\\n\\'\\n\\'\\n\\'\\n(˙ˇˇˇ\\n\\'\\n)˝ˇˇ\\n\\n\\n* \\n\\'\\n+%\\n\\'\\n,&˚\\n\\n&˚˛˙ˇ\\nˆ \\nˇ ˝\\nˇ˚˘\\n˜ˇ\\n$ˇˇ˘\\n\"ˇ\\nˇˆ\"ˇ˘\\nˇˇˇˇ\\n',\n",
       " 'ˇ\\n˘ˇ\\nˇˇˇˇˇ!ˇ\\nˆˇˇˆˇ\\n˝\\nˇˇ\\n˚˜ˆ\\nˇˆ\\n\\n˘\\n\\nˆ ˜\\nˆˇ!˜ˇ\\nˆˆˇ\"\\nˇ\\n˛˜#˚\"˝\\nˇˇ#\\n˘ˇ\\nˇ\\n˙ˇ˜˝ˇˇ\\n$ˇ\"ˇ˝˜\\n˘\\nˇ\\n%ˇ\\n ˙\\n&ˇ!˝\\nˇˇ\\n&˚˛˙ˇ\\nˆ \\nˇ ˝\\nˇ˚˘\\n˜ˇ\\n$ˇˇ˘\\n\"ˇ\\nˇˆ\"ˇ˘\\nˇˇˇˇ\\n',\n",
       " '']"
      ]
     },
     "execution_count": 39,
     "metadata": {},
     "output_type": "execute_result"
    }
   ],
   "source": [
    "pdf_text"
   ]
  },
  {
   "cell_type": "code",
   "execution_count": null,
   "id": "1f68d432",
   "metadata": {},
   "outputs": [],
   "source": []
  }
 ],
 "metadata": {
  "kernelspec": {
   "display_name": "Python 3",
   "language": "python",
   "name": "python3"
  },
  "language_info": {
   "codemirror_mode": {
    "name": "ipython",
    "version": 3
   },
   "file_extension": ".py",
   "mimetype": "text/x-python",
   "name": "python",
   "nbconvert_exporter": "python",
   "pygments_lexer": "ipython3",
   "version": "3.8.8"
  }
 },
 "nbformat": 4,
 "nbformat_minor": 5
}
