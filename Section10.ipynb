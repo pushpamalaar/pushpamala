{
 "cells": [
  {
   "cell_type": "markdown",
   "id": "219b7ea7",
   "metadata": {},
   "source": [
    " Error and exception"
   ]
  },
  {
   "cell_type": "code",
   "execution_count": 1,
   "id": "f0c8eeee",
   "metadata": {},
   "outputs": [],
   "source": [
    "def add(n1,n2):\n",
    "    print(n1+n2)"
   ]
  },
  {
   "cell_type": "code",
   "execution_count": 2,
   "id": "55af848a",
   "metadata": {},
   "outputs": [
    {
     "name": "stdout",
     "output_type": "stream",
     "text": [
      "3\n"
     ]
    }
   ],
   "source": [
    "add(1,2)"
   ]
  },
  {
   "cell_type": "code",
   "execution_count": 3,
   "id": "7466e1a6",
   "metadata": {},
   "outputs": [],
   "source": [
    "n1=1"
   ]
  },
  {
   "cell_type": "code",
   "execution_count": 4,
   "id": "ec7c1470",
   "metadata": {},
   "outputs": [
    {
     "name": "stdout",
     "output_type": "stream",
     "text": [
      "please enter a number 1\n"
     ]
    }
   ],
   "source": [
    "n2=input(\"please enter a number \")"
   ]
  },
  {
   "cell_type": "code",
   "execution_count": 5,
   "id": "67317500",
   "metadata": {},
   "outputs": [
    {
     "ename": "TypeError",
     "evalue": "unsupported operand type(s) for +: 'int' and 'str'",
     "output_type": "error",
     "traceback": [
      "\u001b[1;31m---------------------------------------------------------------------------\u001b[0m",
      "\u001b[1;31mTypeError\u001b[0m                                 Traceback (most recent call last)",
      "\u001b[1;32m<ipython-input-5-247297fe9a2e>\u001b[0m in \u001b[0;36m<module>\u001b[1;34m\u001b[0m\n\u001b[1;32m----> 1\u001b[1;33m \u001b[0madd\u001b[0m\u001b[1;33m(\u001b[0m\u001b[0mn1\u001b[0m\u001b[1;33m,\u001b[0m\u001b[0mn2\u001b[0m\u001b[1;33m)\u001b[0m\u001b[1;33m\u001b[0m\u001b[1;33m\u001b[0m\u001b[0m\n\u001b[0m\u001b[0;32m      2\u001b[0m \u001b[0mprint\u001b[0m\u001b[1;33m(\u001b[0m\u001b[0mn1\u001b[0m\u001b[1;33m+\u001b[0m\u001b[0mn2\u001b[0m\u001b[1;33m)\u001b[0m\u001b[1;33m\u001b[0m\u001b[1;33m\u001b[0m\u001b[0m\n",
      "\u001b[1;32m<ipython-input-1-48bddae7e371>\u001b[0m in \u001b[0;36madd\u001b[1;34m(n1, n2)\u001b[0m\n\u001b[0;32m      1\u001b[0m \u001b[1;32mdef\u001b[0m \u001b[0madd\u001b[0m\u001b[1;33m(\u001b[0m\u001b[0mn1\u001b[0m\u001b[1;33m,\u001b[0m\u001b[0mn2\u001b[0m\u001b[1;33m)\u001b[0m\u001b[1;33m:\u001b[0m\u001b[1;33m\u001b[0m\u001b[1;33m\u001b[0m\u001b[0m\n\u001b[1;32m----> 2\u001b[1;33m     \u001b[0mprint\u001b[0m\u001b[1;33m(\u001b[0m\u001b[0mn1\u001b[0m\u001b[1;33m+\u001b[0m\u001b[0mn2\u001b[0m\u001b[1;33m)\u001b[0m\u001b[1;33m\u001b[0m\u001b[1;33m\u001b[0m\u001b[0m\n\u001b[0m",
      "\u001b[1;31mTypeError\u001b[0m: unsupported operand type(s) for +: 'int' and 'str'"
     ]
    }
   ],
   "source": [
    "add(n1,n2)\n",
    "print(n1+n2)"
   ]
  },
  {
   "cell_type": "code",
   "execution_count": 7,
   "id": "004c4c7e",
   "metadata": {},
   "outputs": [
    {
     "name": "stdout",
     "output_type": "stream",
     "text": [
      "add went well!\n",
      "2\n"
     ]
    }
   ],
   "source": [
    "try:\n",
    "    result =1+1\n",
    "except:\n",
    "    print(\"hey its look like u r not adding correctly!\")\n",
    "else:\n",
    "    print(\"add went well!\")\n",
    "    print (result)"
   ]
  },
  {
   "cell_type": "code",
   "execution_count": 10,
   "id": "32386a85",
   "metadata": {},
   "outputs": [
    {
     "name": "stdout",
     "output_type": "stream",
     "text": [
      "YOU ARE NOT ADDING CORRECTLY!\n"
     ]
    }
   ],
   "source": [
    "try:\n",
    "    result =1+'1'\n",
    "except:\n",
    "    print(\"YOU ARE NOT ADDING CORRECTLY!\")\n",
    "else:\n",
    "    print(\"ADDED CORRECTLY!\")\n",
    "    print (result)"
   ]
  },
  {
   "cell_type": "markdown",
   "id": "50c068a7",
   "metadata": {},
   "source": [
    "Try, Except and Finally"
   ]
  },
  {
   "cell_type": "code",
   "execution_count": 11,
   "id": "81acc594",
   "metadata": {},
   "outputs": [
    {
     "name": "stdout",
     "output_type": "stream",
     "text": [
      "I always run\n"
     ]
    }
   ],
   "source": [
    "try:\n",
    "    f = open('testfile','w')\n",
    "    f.write(\"Write a test line\")\n",
    "except TypeError:\n",
    "    print('there was a type error')\n",
    "except OSError:\n",
    "    print('Hey you have an OS Error')\n",
    "finally:\n",
    "    print('I always run')"
   ]
  },
  {
   "cell_type": "code",
   "execution_count": 12,
   "id": "5cc8b30f",
   "metadata": {},
   "outputs": [
    {
     "name": "stdout",
     "output_type": "stream",
     "text": [
      "Hey you have an OS Error\n",
      "I always run\n"
     ]
    }
   ],
   "source": [
    "try:\n",
    "    f = open('testfile','r')\n",
    "    f.write(\"Write a test line\")\n",
    "except TypeError:\n",
    "    print('there was a type error')\n",
    "except OSError:\n",
    "    print('Hey you have an OS Error')\n",
    "finally:\n",
    "    print('I always run')"
   ]
  },
  {
   "cell_type": "code",
   "execution_count": 13,
   "id": "abe2dce2",
   "metadata": {},
   "outputs": [],
   "source": [
    "def ask_for_int():\n",
    "    try:\n",
    "        result = int(input('Please provide the number: '))\n",
    "    except:\n",
    "        print('Whoop! That is not a number')\n",
    "    finally:\n",
    "        print('End of try/except/finally')"
   ]
  },
  {
   "cell_type": "code",
   "execution_count": 16,
   "id": "538ca81c",
   "metadata": {},
   "outputs": [
    {
     "name": "stdout",
     "output_type": "stream",
     "text": [
      "Please provide the number: d\n",
      "Whoop! That is not a number\n",
      "End of try/except/finally\n"
     ]
    }
   ],
   "source": [
    "ask_for_int()"
   ]
  },
  {
   "cell_type": "code",
   "execution_count": 17,
   "id": "bab2c5bc",
   "metadata": {},
   "outputs": [
    {
     "name": "stdout",
     "output_type": "stream",
     "text": [
      "Please provide the number: 1\n",
      "End of try/except/finally\n"
     ]
    }
   ],
   "source": [
    "ask_for_int()\n"
   ]
  },
  {
   "cell_type": "code",
   "execution_count": 19,
   "id": "329948b4",
   "metadata": {},
   "outputs": [],
   "source": [
    "def ask_for_int():\n",
    "    \n",
    "    while True:\n",
    "        \n",
    "        try:\n",
    "            result = int(input('Please provide the number: '))\n",
    "        except:\n",
    "            print('Whoop! That is not a number')\n",
    "            continue\n",
    "        else:\n",
    "            print('Yes thankyou')\n",
    "            break\n",
    "            \n",
    "        finally:\n",
    "            print('End of try/except/finally')\n",
    "            print('I will always run at the end')"
   ]
  },
  {
   "cell_type": "code",
   "execution_count": 20,
   "id": "5a398a90",
   "metadata": {},
   "outputs": [
    {
     "name": "stdout",
     "output_type": "stream",
     "text": [
      "Please provide the number: p\n",
      "Whoop! That is not a number\n",
      "End of try/except/finally\n",
      "I will always run at the end\n",
      "Please provide the number: 5\n",
      "Yes thankyou\n",
      "End of try/except/finally\n",
      "I will always run at the end\n"
     ]
    }
   ],
   "source": [
    "ask_for_int()"
   ]
  },
  {
   "cell_type": "code",
   "execution_count": 22,
   "id": "6ebca266",
   "metadata": {},
   "outputs": [],
   "source": [
    "def ask_for_int():\n",
    "    \n",
    "    while True:\n",
    "        \n",
    "        try:\n",
    "            result = int(input('Please provide the number: '))\n",
    "        except:\n",
    "            print('Whoop! That is not a number')\n",
    "            continue\n",
    "        else:\n",
    "            print('Yes thankyou')\n",
    "            break\n",
    "            \n",
    "        finally:\n",
    "            print('I am going to ask you again!')"
   ]
  },
  {
   "cell_type": "code",
   "execution_count": 23,
   "id": "5c9f90e2",
   "metadata": {},
   "outputs": [
    {
     "name": "stdout",
     "output_type": "stream",
     "text": [
      "Please provide the number: p\n",
      "Whoop! That is not a number\n",
      "I am going to ask you again!\n",
      "Please provide the number: 5\n",
      "Yes thankyou\n",
      "I am going to ask you again!\n"
     ]
    }
   ],
   "source": [
    "ask_for_int()"
   ]
  },
  {
   "cell_type": "code",
   "execution_count": 24,
   "id": "fd6bc306",
   "metadata": {},
   "outputs": [],
   "source": [
    "def ask_for_int():\n",
    "    \n",
    "    while True:\n",
    "        \n",
    "        try:\n",
    "            result = int(input('Please provide the number: '))\n",
    "        except:\n",
    "            print('Whoop! That is not a number')\n",
    "            continue\n",
    "        else:\n",
    "            print('Yes thankyou')\n",
    "            break"
   ]
  },
  {
   "cell_type": "code",
   "execution_count": 25,
   "id": "0eee2c82",
   "metadata": {},
   "outputs": [
    {
     "name": "stdout",
     "output_type": "stream",
     "text": [
      "Please provide the number: 25\n",
      "Yes thankyou\n"
     ]
    }
   ],
   "source": [
    "ask_for_int()"
   ]
  },
  {
   "cell_type": "code",
   "execution_count": null,
   "id": "0e668da8",
   "metadata": {},
   "outputs": [],
   "source": []
  }
 ],
 "metadata": {
  "kernelspec": {
   "display_name": "Python 3",
   "language": "python",
   "name": "python3"
  },
  "language_info": {
   "codemirror_mode": {
    "name": "ipython",
    "version": 3
   },
   "file_extension": ".py",
   "mimetype": "text/x-python",
   "name": "python",
   "nbconvert_exporter": "python",
   "pygments_lexer": "ipython3",
   "version": "3.8.8"
  }
 },
 "nbformat": 4,
 "nbformat_minor": 5
}
